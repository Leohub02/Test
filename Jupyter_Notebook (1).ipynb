{
 "cells": [
  {
   "cell_type": "markdown",
   "metadata": {},
   "source": [
    "<center>\n",
    "    <img src=\"https://cf-courses-data.s3.us.cloud-object-storage.appdomain.cloud/IBMDeveloperSkillsNetwork-DS0105EN-SkillsNetwork/labs/Module2/images/SN_web_lightmode.png\" width=\"300\" alt=\"cognitiveclass.ai logo\">\n",
    "</center>\n"
   ]
  },
  {
   "cell_type": "markdown",
   "metadata": {},
   "source": [
    "#### Add your code below following the instructions given in the course\n"
   ]
  },
  {
   "cell_type": "markdown",
   "metadata": {},
   "source": [
    "## Testprojekt ## \n",
    "\n"
   ]
  },
  {
   "cell_type": "markdown",
   "metadata": {
    "tags": []
   },
   "source": [
    "## Einleitung ##"
   ]
  },
  {
   "cell_type": "markdown",
   "metadata": {},
   "source": [
    "In diesem Projekt werden die Aufgaben für das Abschlussprojekt bearbeitet"
   ]
  },
  {
   "cell_type": "markdown",
   "metadata": {},
   "source": [
    "## Nr.4   ##"
   ]
  },
  {
   "cell_type": "markdown",
   "metadata": {},
   "source": [
    "1. Python\n",
    "2. R\n",
    "3. SQL\n",
    "4. Julia\n",
    "5. Scala\n",
    "\n"
   ]
  },
  {
   "cell_type": "markdown",
   "metadata": {},
   "source": [
    "## Nr.5  ##"
   ]
  },
  {
   "cell_type": "markdown",
   "metadata": {},
   "source": [
    "\n",
    "\n",
    "Diese Tools bieten eine Vielzahl von Funktionen für die Entwicklung und das Training von Modellen im Bereich des maschinellen Lernens und der künstlichen Intelligenz:\n",
    "\n",
    "1. Scikit-learn\n",
    "2. TensorFlow\n",
    "3. caret\n",
    "4. PyTorch\n"
   ]
  },
  {
   "cell_type": "markdown",
   "metadata": {},
   "source": [
    "## Nr.6  ##"
   ]
  },
  {
   "cell_type": "markdown",
   "metadata": {},
   "source": [
    "| Kategorie        | Tool        | Beschreibung                                                       |\n",
    "|------------------|-------------|---------------------------------------------------------------------|\n",
    "| Programmiersprachen | Python      | Beliebt für Data Science, viele Bibliotheken für Datenanalyse.     |\n",
    "|                  | R           | Speziell für statistische Analysen und Visualisierungen entwickelt.|\n",
    "|                  | Julia       | Hochleistungs-Sprache für numerische und wissenschaftliche Berechnungen. |\n",
    "| Datenbanken      | SQL         | Standard-Sprache zur Abfrage und Manipulation von relationalen Datenbanken. |\n",
    "|                  | MongoDB      | NoSQL-Datenbank für unstrukturierte Daten und große Datenmengen.    |\n",
    "|                  | PostgreSQL   | Relationale Datenbank mit umfangreichen Funktionen für komplexe Abfragen. |\n"
   ]
  },
  {
   "cell_type": "markdown",
   "metadata": {
    "tags": []
   },
   "source": [
    "## Nr.7 ##"
   ]
  },
  {
   "cell_type": "markdown",
   "metadata": {},
   "source": [
    "\n",
    "Hier sind einige einfache arithmetische Ausdrücke in Python:\n",
    "\n",
    "```python\n",
    "# Addition\n",
    "a = 2 + 3\n",
    "print(a)  # Ausgabe: 5\n",
    "\n",
    "# Subtraktion\n",
    "b = 7 - 4\n",
    "print(b)  # Ausgabe: 3\n",
    "\n",
    "# Multiplikation\n",
    "c = 6 * 3\n",
    "print(c)  # Ausgabe: 18\n",
    "\n",
    "# Division\n",
    "d = 8 / 2\n",
    "print(d)  # Ausgabe: 4.0\n"
   ]
  },
  {
   "cell_type": "markdown",
   "metadata": {},
   "source": [
    "## Nr.8 ##"
   ]
  },
  {
   "cell_type": "markdown",
   "metadata": {
    "tags": []
   },
   "source": [
    "# Multiplikation\n",
    "multiply_result = 4 * 5\n",
    "print(\"4 * 5 =\", multiply_result)\n",
    "\n",
    "# Addition\n",
    "add_result = 7 + 3\n",
    "print(\"7 + 3 =\", add_result)\n"
   ]
  },
  {
   "cell_type": "markdown",
   "metadata": {},
   "source": [
    " ## Nr.9 ##"
   ]
  },
  {
   "cell_type": "code",
   "execution_count": null,
   "metadata": {
    "tags": []
   },
   "outputs": [
    {
     "name": "stdout",
     "output_type": "stream",
     "text": [
      "150 Minuten entsprechen 2.50 Stunden.\n"
     ]
    }
   ],
   "source": [
    "\n",
    "def minuten_zu_stunden(minuten):\n",
    "    # Umrechnung von Minuten in Stunden\n",
    "    stunden = minuten / 60\n",
    "    return stunden\n",
    "\n",
    "minuten = 150\n",
    "stunden = minuten_zu_stunden(minuten)\n",
    "\n",
    "print(f\"{minuten} Minuten entsprechen {stunden:.2f} Stunden.\")\n",
    "\n"
   ]
  },
  {
   "cell_type": "markdown",
   "metadata": {},
   "source": [
    "## Nr.10 ##"
   ]
  },
  {
   "cell_type": "markdown",
   "metadata": {},
   "source": [
    "## Objectives ##\n",
    "1. Markdowns erstellen \n",
    "2. Code Programmieren\n",
    "3. Add Comments to code cells"
   ]
  },
  {
   "cell_type": "markdown",
   "metadata": {
    "tags": []
   },
   "source": [
    "## Nr.11 ##"
   ]
  },
  {
   "cell_type": "markdown",
   "metadata": {},
   "source": [
    "Author\n",
    "\n",
    "Leo"
   ]
  },
  {
   "cell_type": "code",
   "execution_count": null,
   "metadata": {},
   "outputs": [],
   "source": []
  },
  {
   "cell_type": "code",
   "execution_count": null,
   "metadata": {},
   "outputs": [],
   "source": []
  }
 ],
 "metadata": {
  "kernelspec": {
   "display_name": "Python",
   "language": "python",
   "name": "conda-env-python-py"
  },
  "language_info": {
   "codemirror_mode": {
    "name": "ipython",
    "version": 3
   },
   "file_extension": ".py",
   "mimetype": "text/x-python",
   "name": "python",
   "nbconvert_exporter": "python",
   "pygments_lexer": "ipython3",
   "version": "3.7.12"
  }
 },
 "nbformat": 4,
 "nbformat_minor": 4
}
